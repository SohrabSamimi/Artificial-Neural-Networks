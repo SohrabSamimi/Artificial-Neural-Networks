{
  "nbformat": 4,
  "nbformat_minor": 0,
  "metadata": {
    "kernelspec": {
      "display_name": "Python 3",
      "language": "python",
      "name": "python3"
    },
    "language_info": {
      "codemirror_mode": {
        "name": "ipython",
        "version": 3
      },
      "file_extension": ".py",
      "mimetype": "text/x-python",
      "name": "python",
      "nbconvert_exporter": "python",
      "pygments_lexer": "ipython3",
      "version": "3.7.3"
    },
    "colab": {
      "name": "ANN August 4th.ipynb",
      "provenance": [],
      "collapsed_sections": [],
      "include_colab_link": true
    }
  },
  "cells": [
    {
      "cell_type": "markdown",
      "metadata": {
        "id": "view-in-github",
        "colab_type": "text"
      },
      "source": [
        "<a href=\"https://colab.research.google.com/github/SohrabSamimi/Artificial-Neural-Networks/blob/master/ANN_August_4th.ipynb\" target=\"_parent\"><img src=\"https://colab.research.google.com/assets/colab-badge.svg\" alt=\"Open In Colab\"/></a>"
      ]
    },
    {
      "cell_type": "markdown",
      "metadata": {
        "id": "ytTT17zrwMAu",
        "colab_type": "text"
      },
      "source": [
        "# Artificial Neural Networks DSTI Project"
      ]
    },
    {
      "cell_type": "markdown",
      "metadata": {
        "id": "G6DymOXawMAw",
        "colab_type": "text"
      },
      "source": [
        "## Exploring the Scikit Learn Digits dataset"
      ]
    },
    {
      "cell_type": "markdown",
      "metadata": {
        "id": "TZDfaDrzzzNT",
        "colab_type": "text"
      },
      "source": [
        "We import a few packages and then we import the load_digits dataset."
      ]
    },
    {
      "cell_type": "code",
      "metadata": {
        "id": "2capCrsuwMA3",
        "colab_type": "code",
        "colab": {
          "base_uri": "https://localhost:8080/",
          "height": 35
        },
        "outputId": "971f6737-9b0f-4c69-a2d6-1d224f973967"
      },
      "source": [
        "import numpy as np\n",
        "import matplotlib.pyplot as plt\n",
        "from sklearn.datasets import load_digits\n",
        "digits=load_digits()\n",
        "print(digits.data.shape,digits.target.shape)"
      ],
      "execution_count": 12,
      "outputs": [
        {
          "output_type": "stream",
          "text": [
            "(1797, 64) (1797,)\n"
          ],
          "name": "stdout"
        }
      ]
    },
    {
      "cell_type": "markdown",
      "metadata": {
        "id": "df9umeOXzCSf",
        "colab_type": "text"
      },
      "source": [
        "We see that the load_digits dataset contains 1797 samples(the images) each of them having 64 features.We confirm that the number of target values matches the number of samples by looking at the target's shape."
      ]
    },
    {
      "cell_type": "markdown",
      "metadata": {
        "id": "TeXWq5v8wMA6",
        "colab_type": "text"
      },
      "source": [
        "Let us display a few images from the dataset:"
      ]
    },
    {
      "cell_type": "code",
      "metadata": {
        "id": "Om8vn609wMA7",
        "colab_type": "code",
        "colab": {
          "base_uri": "https://localhost:8080/",
          "height": 256
        },
        "outputId": "dffbb790-e376-4808-c680-b3960e2eb2cf"
      },
      "source": [
        "fig, ax = plt.subplots(3, 5)\n",
        "ax.flatten()\n",
        "for i, axes in enumerate(ax.flat):\n",
        "    axes.imshow(digits.images[i], cmap='bone')\n",
        "    axes.set(xticks=[], yticks=[],\n",
        "            xlabel=digits.target_names[digits.target[i]])"
      ],
      "execution_count": 13,
      "outputs": [
        {
          "output_type": "display_data",
          "data": {
            "image/png": "[encoded data removed]",
            "text/plain": [
              "<Figure size 432x288 with 15 Axes>"
            ]
          },
          "metadata": {
            "tags": []
          }
        }
      ]
    },
    {
      "cell_type": "markdown",
      "metadata": {
        "id": "dZMpHBaLwMA-",
        "colab_type": "text"
      },
      "source": [
        "Now,we make training set,testing set,and we make predictions on the test set Xtest.\n",
        "\n",
        "\n"
      ]
    },
    {
      "cell_type": "code",
      "metadata": {
        "id": "GbIxLCcDwMA_",
        "colab_type": "code",
        "colab": {
          "base_uri": "https://localhost:8080/",
          "height": 381
        },
        "outputId": "ebe4b742-e0de-4153-9593-579c8a83695e"
      },
      "source": [
        "from sklearn.model_selection import train_test_split\n",
        "from sklearn import svm\n",
        "clf = svm.SVC()\n",
        "X,y=digits.data,digits.target\n",
        "Xtrain,Xtest,ytrain,ytest=train_test_split(X,y,random_state=43)\n",
        "clf.fit(X,y)\n",
        "yfit=clf.predict(Xtest)\n",
        "yfit"
      ],
      "execution_count": 14,
      "outputs": [
        {
          "output_type": "execute_result",
          "data": {
            "text/plain": [
              "array([1, 8, 3, 8, 6, 0, 6, 5, 1, 1, 7, 1, 3, 9, 2, 6, 0, 4, 7, 4, 7, 0,\n",
              "       0, 8, 5, 0, 8, 2, 3, 3, 8, 6, 9, 8, 0, 7, 6, 9, 4, 8, 9, 6, 4, 0,\n",
              "       4, 6, 4, 4, 6, 0, 5, 0, 5, 4, 5, 9, 7, 5, 7, 4, 4, 6, 4, 6, 5, 4,\n",
              "       1, 5, 6, 4, 7, 4, 2, 6, 7, 4, 0, 4, 0, 8, 8, 0, 3, 5, 9, 6, 0, 5,\n",
              "       3, 0, 0, 4, 6, 9, 6, 6, 9, 4, 6, 9, 3, 7, 8, 9, 7, 0, 3, 3, 6, 7,\n",
              "       5, 2, 1, 9, 7, 7, 7, 7, 7, 0, 9, 2, 5, 7, 7, 4, 8, 3, 2, 6, 8, 0,\n",
              "       1, 6, 4, 4, 8, 0, 9, 0, 1, 6, 1, 7, 3, 2, 0, 5, 0, 7, 8, 9, 6, 0,\n",
              "       1, 5, 7, 1, 0, 7, 4, 1, 7, 9, 8, 2, 6, 4, 9, 7, 7, 5, 8, 0, 2, 9,\n",
              "       5, 6, 4, 5, 4, 2, 9, 6, 4, 1, 8, 7, 8, 7, 2, 6, 1, 6, 1, 4, 2, 6,\n",
              "       1, 8, 3, 6, 9, 0, 8, 2, 9, 4, 7, 9, 8, 4, 5, 2, 1, 4, 1, 8, 6, 2,\n",
              "       9, 8, 1, 8, 1, 5, 2, 8, 8, 5, 9, 2, 9, 2, 9, 2, 1, 8, 8, 9, 6, 8,\n",
              "       3, 1, 0, 3, 1, 1, 5, 4, 7, 6, 2, 4, 6, 4, 9, 9, 2, 0, 6, 5, 6, 0,\n",
              "       3, 7, 5, 0, 0, 3, 4, 5, 8, 9, 2, 1, 6, 7, 9, 6, 9, 3, 3, 7, 4, 3,\n",
              "       5, 8, 9, 4, 0, 0, 9, 1, 4, 0, 4, 3, 7, 6, 3, 0, 3, 8, 0, 4, 8, 8,\n",
              "       5, 3, 1, 2, 8, 0, 0, 3, 6, 8, 1, 7, 5, 8, 7, 2, 0, 4, 1, 7, 3, 8,\n",
              "       0, 4, 1, 1, 5, 5, 2, 8, 9, 9, 0, 4, 8, 8, 6, 8, 9, 4, 9, 7, 7, 7,\n",
              "       9, 6, 8, 7, 0, 4, 5, 1, 2, 4, 7, 5, 2, 3, 2, 5, 6, 6, 5, 6, 3, 0,\n",
              "       9, 8, 8, 3, 4, 2, 7, 9, 4, 8, 6, 8, 7, 6, 2, 1, 9, 2, 2, 8, 1, 2,\n",
              "       1, 9, 5, 4, 6, 2, 3, 3, 8, 0, 0, 5, 9, 2, 7, 5, 5, 9, 6, 5, 5, 0,\n",
              "       8, 5, 9, 9, 7, 1, 4, 6, 4, 0, 7, 0, 5, 6, 5, 0, 8, 2, 6, 9, 0, 5,\n",
              "       0, 3, 2, 8, 8, 8, 2, 6, 1, 7])"
            ]
          },
          "metadata": {
            "tags": []
          },
          "execution_count": 14
        }
      ]
    },
    {
      "cell_type": "code",
      "metadata": {
        "id": "sTjBsykR1FAT",
        "colab_type": "code",
        "colab": {
          "base_uri": "https://localhost:8080/",
          "height": 35
        },
        "outputId": "951c246e-fe68-44ce-8af4-4c998c1e1851"
      },
      "source": [
        "Xtrain[0].shape"
      ],
      "execution_count": 15,
      "outputs": [
        {
          "output_type": "execute_result",
          "data": {
            "text/plain": [
              "(64,)"
            ]
          },
          "metadata": {
            "tags": []
          },
          "execution_count": 15
        }
      ]
    },
    {
      "cell_type": "markdown",
      "metadata": {
        "id": "kG805MTH5iNG",
        "colab_type": "text"
      },
      "source": [
        "The following code creates a matrix called \"y_multilabel\" composed of two labels for each image: the first label indicates if the value is above 7 and the second indicates if the value is odd.Then we train an instance of KNeighborsClassifier on the 'multilabeled' matrix.We can then perform a prediction and we notice we obtain two labels('False' and 'True'): "
      ]
    },
    {
      "cell_type": "code",
      "metadata": {
        "id": "NKloILl7yiJM",
        "colab_type": "code",
        "colab": {
          "base_uri": "https://localhost:8080/",
          "height": 884
        },
        "outputId": "9179d530-0cd1-47d9-ea84-4b8c5b527c6c"
      },
      "source": [
        "from sklearn.neighbors import KNeighborsClassifier\n",
        "ytrain_large=(ytrain>=7)\n",
        "ytrain_odd=(ytrain %2 == 1)\n",
        "y_multilabel = np.c_[ytrain_large, ytrain_odd]\n",
        "knn_clf = KNeighborsClassifier()\n",
        "knn_clf.fit(Xtrain,y_multilabel)\n",
        "prediction = knn_clf.predict(Xtest)\n",
        "print(prediction[:50])\n"
      ],
      "execution_count": 32,
      "outputs": [
        {
          "output_type": "stream",
          "text": [
            "[[False  True]\n",
            " [ True False]\n",
            " [False  True]\n",
            " [ True False]\n",
            " [False False]\n",
            " [False False]\n",
            " [False False]\n",
            " [False  True]\n",
            " [False  True]\n",
            " [False  True]\n",
            " [ True  True]\n",
            " [False  True]\n",
            " [False  True]\n",
            " [ True  True]\n",
            " [False False]\n",
            " [False False]\n",
            " [False False]\n",
            " [False False]\n",
            " [ True  True]\n",
            " [False False]\n",
            " [ True  True]\n",
            " [False False]\n",
            " [False False]\n",
            " [ True False]\n",
            " [False  True]\n",
            " [False False]\n",
            " [ True False]\n",
            " [False False]\n",
            " [False  True]\n",
            " [False  True]\n",
            " [ True False]\n",
            " [False False]\n",
            " [ True  True]\n",
            " [False  True]\n",
            " [False False]\n",
            " [ True  True]\n",
            " [False False]\n",
            " [ True  True]\n",
            " [False False]\n",
            " [ True False]\n",
            " [ True  True]\n",
            " [False False]\n",
            " [False False]\n",
            " [False False]\n",
            " [False False]\n",
            " [False False]\n",
            " [False False]\n",
            " [False False]\n",
            " [False False]\n",
            " [False False]]\n"
          ],
          "name": "stdout"
        }
      ]
    },
    {
      "cell_type": "markdown",
      "metadata": {
        "id": "GMRk3EWu8ObZ",
        "colab_type": "text"
      },
      "source": [
        "Let us now check that the predictions are correct by comparing KNeighborsClassifier predictions to the previous predictions using SVM:"
      ]
    },
    {
      "cell_type": "code",
      "metadata": {
        "id": "aL042xUr7_L1",
        "colab_type": "code",
        "colab": {
          "base_uri": "https://localhost:8080/",
          "height": 1000
        },
        "outputId": "5fcd5726-f23a-4c73-e632-05f9c1f3288b"
      },
      "source": [
        "print((yfit>=7)==prediction[:,0])\n",
        "print((yfit%2 == 1) == prediction[:,1])"
      ],
      "execution_count": 17,
      "outputs": [
        {
          "output_type": "stream",
          "text": [
            "[ True  True  True  True  True  True  True  True  True  True  True  True\n",
            "  True  True  True  True  True  True  True  True  True  True  True  True\n",
            "  True  True  True  True  True  True  True  True  True False  True  True\n",
            "  True  True  True  True  True  True  True  True  True  True  True  True\n",
            "  True  True  True  True  True  True  True  True  True  True  True  True\n",
            "  True  True  True  True  True  True  True  True  True  True  True  True\n",
            "  True  True  True  True  True  True  True  True  True  True  True  True\n",
            "  True  True  True  True  True  True  True  True  True  True  True  True\n",
            "  True  True  True  True  True  True  True  True  True  True  True  True\n",
            "  True  True  True  True  True False  True  True  True  True  True  True\n",
            "  True  True  True  True  True  True  True  True  True  True  True  True\n",
            "  True  True  True  True  True  True  True  True  True  True  True  True\n",
            "  True  True  True  True  True  True  True  True  True  True  True  True\n",
            "  True  True  True  True  True  True  True  True  True  True  True  True\n",
            "  True  True  True  True False  True  True  True  True  True  True  True\n",
            "  True  True  True  True  True  True  True  True  True  True  True  True\n",
            "  True  True  True  True  True  True  True  True  True  True  True  True\n",
            "  True  True  True  True  True  True  True  True  True  True  True  True\n",
            "  True  True  True  True  True  True  True False  True  True  True  True\n",
            "  True  True  True  True  True  True  True  True  True  True  True  True\n",
            "  True  True  True  True  True  True  True  True  True  True  True  True\n",
            "  True  True  True  True  True  True  True  True  True  True  True  True\n",
            "  True  True  True  True  True  True  True  True  True  True  True  True\n",
            "  True  True  True  True  True  True  True  True  True  True  True  True\n",
            "  True  True  True  True  True  True  True  True  True  True  True  True\n",
            "  True  True  True  True  True  True  True False  True  True  True  True\n",
            "  True  True  True  True  True  True  True  True  True  True  True  True\n",
            "  True  True  True  True  True  True  True  True  True  True  True  True\n",
            "  True  True  True  True  True  True  True  True  True  True  True  True\n",
            "  True  True  True False  True  True  True  True  True  True  True  True\n",
            "  True  True  True  True  True  True  True  True  True  True  True  True\n",
            "  True  True  True  True  True  True  True  True  True  True  True  True\n",
            "  True  True  True  True  True  True  True  True  True  True  True  True\n",
            "  True  True  True  True  True  True  True  True  True  True  True  True\n",
            "  True  True  True  True  True  True  True  True  True  True  True  True\n",
            "  True  True  True  True False  True  True  True  True  True  True  True\n",
            "  True  True  True  True  True  True  True  True  True  True  True  True\n",
            "  True  True  True  True  True  True]\n",
            "[ True  True  True  True  True  True  True  True  True  True  True  True\n",
            "  True  True  True  True  True  True  True  True  True  True  True  True\n",
            "  True  True  True  True  True  True  True  True  True False  True  True\n",
            "  True  True  True  True  True  True  True  True  True  True  True  True\n",
            "  True  True  True  True  True  True  True  True  True  True  True  True\n",
            "  True  True  True  True  True  True  True  True  True  True  True  True\n",
            "  True  True  True  True  True  True  True  True  True  True  True  True\n",
            "  True  True  True  True  True  True  True  True  True  True  True  True\n",
            "  True  True  True  True  True  True  True  True  True  True  True  True\n",
            "  True  True  True  True  True  True  True  True  True  True  True  True\n",
            "  True  True  True  True  True  True  True  True  True  True  True  True\n",
            "  True  True  True  True  True  True  True  True  True  True  True  True\n",
            "  True  True  True  True  True  True  True  True  True  True  True  True\n",
            "  True  True  True  True  True  True  True  True  True  True  True  True\n",
            "  True  True  True  True False  True  True  True  True  True  True  True\n",
            "  True  True  True  True  True  True  True  True  True  True  True  True\n",
            "  True  True  True  True  True  True  True  True  True  True  True  True\n",
            "  True  True  True  True  True  True  True  True  True  True  True  True\n",
            "  True  True  True  True  True  True  True False  True  True  True  True\n",
            "  True  True  True  True  True  True  True  True  True  True  True  True\n",
            "  True  True  True  True  True  True  True  True  True  True  True  True\n",
            "  True  True  True  True  True  True  True  True  True  True  True  True\n",
            "  True  True  True  True  True  True  True  True  True  True  True  True\n",
            "  True  True  True  True  True  True  True  True  True  True  True  True\n",
            "  True  True  True  True  True  True False  True  True  True  True  True\n",
            "  True  True  True  True  True  True  True False  True  True  True  True\n",
            "  True  True  True  True  True  True  True  True  True  True  True  True\n",
            "  True  True  True  True  True  True  True  True  True  True  True  True\n",
            "  True  True  True  True  True  True  True  True  True  True  True  True\n",
            "  True  True  True False  True  True  True  True  True  True  True  True\n",
            "  True  True  True  True  True  True  True  True  True  True  True  True\n",
            "  True  True  True  True  True  True  True  True  True  True  True  True\n",
            "  True  True  True  True  True  True  True  True  True  True  True  True\n",
            "  True  True  True  True  True  True  True  True  True  True  True  True\n",
            "  True  True  True  True  True  True  True  True  True  True  True  True\n",
            "  True  True  True  True False  True  True  True  True  True  True  True\n",
            "  True  True  True  True  True  True  True  True  True  True  True  True\n",
            "  True  True  True  True  True  True]\n"
          ],
          "name": "stdout"
        }
      ]
    },
    {
      "cell_type": "markdown",
      "metadata": {
        "id": "-XnL1Y-c8iSD",
        "colab_type": "text"
      },
      "source": [
        "# We see two arrays:\n",
        "\n",
        "1.   The first array returns True if both predictions(SVM and KNeigborsCLassifier) return a number greater or equal to 7\n",
        "2.   The second array returns True if both predictions return an odd number\n",
        "\n",
        "\n",
        "### We notice there are very few errors.\n",
        "Of course this does not mean the two methods predicted the same numbers: for instance it could happen that SVM predicts 9 and KNeighborsClassifier predicts 7,so we would get a True value,but the probability that we are ***always*** right is very low.\n",
        "\n"
      ]
    },
    {
      "cell_type": "markdown",
      "metadata": {
        "id": "H_UO7wq0VUsd",
        "colab_type": "text"
      },
      "source": [
        "We now evaluate the accuracy of our predictions using the f1_score method."
      ]
    },
    {
      "cell_type": "code",
      "metadata": {
        "id": "3vmUr6qwCbje",
        "colab_type": "code",
        "colab": {
          "base_uri": "https://localhost:8080/",
          "height": 35
        },
        "outputId": "faf27b69-23b2-4a3f-fa85-2abb70a60975"
      },
      "source": [
        "from sklearn.model_selection import cross_val_predict\n",
        "from sklearn.metrics import f1_score\n",
        "ytrain_knn_pred=cross_val_predict(knn_clf,Xtrain,y_multilabel,cv = 4)\n",
        "f1_score(y_multilabel,ytrain_knn_pred,average=\"macro\")\n"
      ],
      "execution_count": 18,
      "outputs": [
        {
          "output_type": "execute_result",
          "data": {
            "text/plain": [
              "0.98409515752453"
            ]
          },
          "metadata": {
            "tags": []
          },
          "execution_count": 18
        }
      ]
    },
    {
      "cell_type": "markdown",
      "metadata": {
        "id": "XloxPWcZ-TMj",
        "colab_type": "text"
      },
      "source": [
        "# Now we create a confusion matrix:"
      ]
    },
    {
      "cell_type": "code",
      "metadata": {
        "id": "pUXY972SwMBC",
        "colab_type": "code",
        "colab": {
          "base_uri": "https://localhost:8080/",
          "height": 320
        },
        "outputId": "88d61902-608b-45cc-e57e-9b8977f78cba"
      },
      "source": [
        "import pandas as pd\n",
        "import seaborn as sns\n",
        "from sklearn.metrics import confusion_matrix\n",
        "confusion=confusion_matrix(ytest,yfit)\n",
        "confusion_df=pd.DataFrame(confusion,index=range(10),columns=range(10))\n",
        "\n",
        "axes=sns.heatmap(confusion_df,annot=True,cmap='nipy_spectral_r')"
      ],
      "execution_count": 19,
      "outputs": [
        {
          "output_type": "stream",
          "text": [
            "/usr/local/lib/python3.6/dist-packages/statsmodels/tools/_testing.py:19: FutureWarning: pandas.util.testing is deprecated. Use the functions in the public API at pandas.testing instead.\n",
            "  import pandas.util.testing as tm\n"
          ],
          "name": "stderr"
        },
        {
          "output_type": "display_data",
          "data": {
            "image/png": "[encoded data removed]",
            "text/plain": [
              "<Figure size 432x288 with 2 Axes>"
            ]
          },
          "metadata": {
            "tags": [],
            "needs_background": "light"
          }
        }
      ]
    },
    {
      "cell_type": "markdown",
      "metadata": {
        "id": "jQAhOqVE0RkS",
        "colab_type": "text"
      },
      "source": [
        "A confusion matrix which is close to a diagonal matrix represents an accurate model.The confusion matrix above shows us that there was only one mistake in the predictions.One sample representing the number 9 was mistakenly predicted as being number 7.Otherwise everything is correct.The model is thus pretty accurate."
      ]
    },
    {
      "cell_type": "code",
      "metadata": {
        "id": "nVT838Tb1nRy",
        "colab_type": "code",
        "colab": {}
      },
      "source": [
        ""
      ],
      "execution_count": 19,
      "outputs": []
    },
    {
      "cell_type": "markdown",
      "metadata": {
        "id": "sgG-ys_C1m5k",
        "colab_type": "text"
      },
      "source": [
        "We now show a set of points representing clusters,each of them having a  center represented as a red cross."
      ]
    },
    {
      "cell_type": "code",
      "metadata": {
        "id": "RsMh_WTSwMBE",
        "colab_type": "code",
        "colab": {
          "base_uri": "https://localhost:8080/",
          "height": 283
        },
        "outputId": "697f3bac-22b4-4e77-e8c0-3247caafd9c1"
      },
      "source": [
        "from sklearn.decomposition import PCA\n",
        "from sklearn.cluster import KMeans\n",
        "from sklearn.preprocessing import scale\n",
        "X_digits, y_digits = load_digits(return_X_y=True)\n",
        "data = scale(X_digits)\n",
        "kmeans = KMeans(init='k-means++', n_clusters=10, n_init=10)\n",
        "pca=PCA(n_components=10).fit_transform(data)\n",
        "reduced_data = PCA(n_components=2).fit_transform(data)\n",
        "kmeans.fit(reduced_data)\n",
        "plt.scatter(reduced_data[:,0],reduced_data[:,1],color='black')\n",
        "centroids=kmeans.cluster_centers_\n",
        "plt.scatter(centroids[:, 0], centroids[:, 1],\n",
        "            marker='x', s=169, linewidths=3,\n",
        "            color='r', zorder=10)"
      ],
      "execution_count": 20,
      "outputs": [
        {
          "output_type": "execute_result",
          "data": {
            "text/plain": [
              "<matplotlib.collections.PathCollection at 0x7ff537a38358>"
            ]
          },
          "metadata": {
            "tags": []
          },
          "execution_count": 20
        },
        {
          "output_type": "display_data",
          "data": {
            "image/png": "[encoded data removed]",
            "text/plain": [
              "<Figure size 432x288 with 1 Axes>"
            ]
          },
          "metadata": {
            "tags": [],
            "needs_background": "light"
          }
        }
      ]
    },
    {
      "cell_type": "code",
      "metadata": {
        "id": "fsvB22bYwMBH",
        "colab_type": "code",
        "colab": {}
      },
      "source": [
        ""
      ],
      "execution_count": 20,
      "outputs": []
    },
    {
      "cell_type": "code",
      "metadata": {
        "id": "0Tp8aTrSwMBL",
        "colab_type": "code",
        "colab": {}
      },
      "source": [
        "X_digits, y_digits = load_digits(return_X_y=True)"
      ],
      "execution_count": 21,
      "outputs": []
    },
    {
      "cell_type": "code",
      "metadata": {
        "id": "2TGmLSf_wMBN",
        "colab_type": "code",
        "colab": {}
      },
      "source": [
        "from sklearn.svm import SVC\n",
        "\n",
        "X_digits, y_digits = load_digits(return_X_y=True)\n",
        "data = scale(X_digits)\n",
        "reduced_data = PCA(n_components=2).fit_transform(data)"
      ],
      "execution_count": 22,
      "outputs": []
    },
    {
      "cell_type": "code",
      "metadata": {
        "id": "XkArTP3awMBO",
        "colab_type": "code",
        "colab": {
          "base_uri": "https://localhost:8080/",
          "height": 52
        },
        "outputId": "773ecb8e-4cfc-4415-c1c8-bd19ddb88b09"
      },
      "source": [
        "from sklearn.preprocessing import PolynomialFeatures\n",
        "from sklearn.linear_model import LinearRegression\n",
        "polyn = PolynomialFeatures(degree=2)\n",
        "x_ = polyn.fit_transform(X_digits) \n",
        "   \n",
        "clf = LinearRegression()\n",
        "clf.fit(x_,y_digits)\n",
        "y1 = clf.predict(x_)  \n",
        "y1\n",
        "\n",
        "    "
      ],
      "execution_count": 23,
      "outputs": [
        {
          "output_type": "execute_result",
          "data": {
            "text/plain": [
              "array([-0.36221313, -0.93579483,  2.82901764, ...,  8.01266861,\n",
              "        9.06311035,  7.73261642])"
            ]
          },
          "metadata": {
            "tags": []
          },
          "execution_count": 23
        }
      ]
    },
    {
      "cell_type": "code",
      "metadata": {
        "id": "iUPhCinKP69p",
        "colab_type": "code",
        "colab": {}
      },
      "source": [
        ""
      ],
      "execution_count": 23,
      "outputs": []
    },
    {
      "cell_type": "code",
      "metadata": {
        "id": "lANU4j_VwMBQ",
        "colab_type": "code",
        "colab": {
          "base_uri": "https://localhost:8080/",
          "height": 265
        },
        "outputId": "cacbd45c-22a8-4c9b-c7a7-861ae037e430"
      },
      "source": [
        "from sklearn.manifold import LocallyLinearEmbedding\n",
        "X = load_digits().data\n",
        "y=load_digits().target\n",
        "X.shape\n",
        "\n",
        "embedding = LocallyLinearEmbedding(n_components=2)\n",
        "X_transformed = embedding.fit_transform(X[:50])\n",
        "X_transformed.shape\n",
        "plt.scatter(X_transformed[:,0],X_transformed[:,1])\n",
        "plt.show()"
      ],
      "execution_count": 24,
      "outputs": [
        {
          "output_type": "display_data",
          "data": {
            "image/png": "[encoded data removed]",
            "text/plain": [
              "<Figure size 432x288 with 1 Axes>"
            ]
          },
          "metadata": {
            "tags": [],
            "needs_background": "light"
          }
        }
      ]
    },
    {
      "cell_type": "markdown",
      "metadata": {
        "id": "3QULQl3tT616",
        "colab_type": "text"
      },
      "source": [
        "We are now going to do a Polynomial Regression of degree 4 on the X_transformed data we have."
      ]
    },
    {
      "cell_type": "code",
      "metadata": {
        "id": "IZDdtY1NT48q",
        "colab_type": "code",
        "colab": {
          "base_uri": "https://localhost:8080/",
          "height": 35
        },
        "outputId": "dff6c9bb-664f-4d78-87b4-d2dd22111e9d"
      },
      "source": [
        "X.shape[1]"
      ],
      "execution_count": 25,
      "outputs": [
        {
          "output_type": "execute_result",
          "data": {
            "text/plain": [
              "64"
            ]
          },
          "metadata": {
            "tags": []
          },
          "execution_count": 25
        }
      ]
    },
    {
      "cell_type": "code",
      "metadata": {
        "id": "V8rfAZKumzZJ",
        "colab_type": "code",
        "colab": {
          "base_uri": "https://localhost:8080/",
          "height": 35
        },
        "outputId": "ed7460c5-1ad2-4e96-a44e-e607d679cdaf"
      },
      "source": [
        "X=X_transformed[:,0].reshape(-1,1)\n",
        "from sklearn.preprocessing import PolynomialFeatures\n",
        "poly_features=PolynomialFeatures(degree=4,include_bias=False)\n",
        "X_poly=poly_features.fit_transform(X)\n",
        "X.shape[1]"
      ],
      "execution_count": 26,
      "outputs": [
        {
          "output_type": "execute_result",
          "data": {
            "text/plain": [
              "1"
            ]
          },
          "metadata": {
            "tags": []
          },
          "execution_count": 26
        }
      ]
    },
    {
      "cell_type": "markdown",
      "metadata": {
        "id": "X9ZeOrCKWGWF",
        "colab_type": "text"
      },
      "source": [
        "X_poly now contains the feature of X the powers of X up to degree 4,and the trick is now to perform a Linear Regression to this extended data.\n",
        "\n",
        "\n",
        "\n"
      ]
    },
    {
      "cell_type": "code",
      "metadata": {
        "id": "TIuZhgrQWm2u",
        "colab_type": "code",
        "colab": {}
      },
      "source": [
        "lin_reg=LinearRegression()\n",
        "a=lin_reg.fit(X_poly,X_transformed[:,1].reshape(-1,1))\n",
        "b=lin_reg.intercept_,lin_reg.coef_\n"
      ],
      "execution_count": 27,
      "outputs": []
    },
    {
      "cell_type": "markdown",
      "metadata": {
        "id": "rw_bPeMYWrpe",
        "colab_type": "text"
      },
      "source": [
        "We now plot our polynomial function of degree 4 and our data:\n",
        "\n"
      ]
    },
    {
      "cell_type": "code",
      "metadata": {
        "id": "heKpH_PYS_Pq",
        "colab_type": "code",
        "colab": {
          "base_uri": "https://localhost:8080/",
          "height": 283
        },
        "outputId": "02358698-a46f-410c-a6b0-0b9bd846a5aa"
      },
      "source": [
        "x=np.linspace(-0.4,0.3)\n",
        "plt.plot(x,-95.99*x**4-16.49*x**3+10*x**2+0.98*x-0.11,color='green')\n",
        "plt.scatter(X_transformed[:,0],X_transformed[:,1])"
      ],
      "execution_count": 28,
      "outputs": [
        {
          "output_type": "execute_result",
          "data": {
            "text/plain": [
              "<matplotlib.collections.PathCollection at 0x7ff537b087f0>"
            ]
          },
          "metadata": {
            "tags": []
          },
          "execution_count": 28
        },
        {
          "output_type": "display_data",
          "data": {
            "image/png": "[encoded data removed]",
            "text/plain": [
              "<Figure size 432x288 with 1 Axes>"
            ]
          },
          "metadata": {
            "tags": [],
            "needs_background": "light"
          }
        }
      ]
    },
    {
      "cell_type": "markdown",
      "metadata": {
        "id": "80znqOrwV7VJ",
        "colab_type": "text"
      },
      "source": [
        "Polynomial Regression of degree 4 seems to fit our data very well without overfitting!\n",
        "\n"
      ]
    },
    {
      "cell_type": "code",
      "metadata": {
        "id": "faFg-8SSwMBT",
        "colab_type": "code",
        "colab": {}
      },
      "source": [
        "import tensorflow as tf\n",
        "from tensorflow import keras\n",
        "from keras.layers import Dense,Dropout,Flatten\n",
        "from keras.layers import MaxPooling2D,Conv2D\n",
        "from keras.utils import np_utils\n",
        "from keras.models import Sequential"
      ],
      "execution_count": 31,
      "outputs": []
    },
    {
      "cell_type": "code",
      "metadata": {
        "id": "CVKaFUvcwMBU",
        "colab_type": "code",
        "colab": {}
      },
      "source": [
        "import cv2"
      ],
      "execution_count": null,
      "outputs": []
    },
    {
      "cell_type": "code",
      "metadata": {
        "id": "0d0KRe-wDsIB",
        "colab_type": "code",
        "colab": {}
      },
      "source": [
        "resize=(64,64)\n",
        "Xtrain_resized = [cv2.resize(img, resize) for img in Xtrain]\n",
        "Xtest_resized = [cv2.resize(img, resize) for img in Xtest]\n",
        "Xtrain_resized = np.array(Xtrain_resized).astype('float32')\n",
        "Xtrain_resized /= 255\n",
        "\n",
        "Xtest_resized = np.array(Xtest_resized).astype('float32')\n",
        "Xtest_resized /= 255\n"
      ],
      "execution_count": null,
      "outputs": []
    },
    {
      "cell_type": "code",
      "metadata": {
        "id": "LeBFqnReEqkB",
        "colab_type": "code",
        "colab": {}
      },
      "source": [
        "num_classes=10"
      ],
      "execution_count": null,
      "outputs": []
    },
    {
      "cell_type": "code",
      "metadata": {
        "id": "T4zVkmJ3EXy4",
        "colab_type": "code",
        "colab": {}
      },
      "source": [
        "ytrain_cat = keras.utils.to_categorical(ytrain, num_classes)\n",
        "ytest_cat = keras.utils.to_categorical(ytest, num_classes)"
      ],
      "execution_count": null,
      "outputs": []
    },
    {
      "cell_type": "code",
      "metadata": {
        "id": "QgmvDmKhFtrH",
        "colab_type": "code",
        "colab": {}
      },
      "source": [
        "Xtrain_resized=Xtrain_resized.reshape(Xtrain_resized.shape[0],64,64,1)\n",
        "input_shape = Xtrain_resized"
      ],
      "execution_count": null,
      "outputs": []
    },
    {
      "cell_type": "code",
      "metadata": {
        "id": "YmpYkvUGEt9d",
        "colab_type": "code",
        "colab": {}
      },
      "source": [
        "model = Sequential()\n",
        "\n",
        "#  first convolutional layer\n",
        "model.add(Conv2D(32, kernel_size=(3, 3), activation='relu', input_shape= input_shape))\n",
        "\n",
        "#  second convolutional layer\n",
        "model.add(Conv2D(64, (3, 3), activation='relu'))\n",
        "\n",
        "#  max pooling layer \n",
        "model.add(MaxPooling2D(pool_size=(2, 2)))\n",
        "\n",
        "#  dropout layer\n",
        "model.add(Dropout(0.125))\n",
        "\n",
        "#  flatten layer\n",
        "model.add(Flatten())\n",
        "\n",
        "#  dense layer\n",
        "model.add(Dense(128, activation='relu'))\n",
        "\n",
        "#   dropout layer\n",
        "model.add(Dropout(0.25))\n",
        "\n",
        "#  dense layer\n",
        "model.add(Dense(num_classes, activation='softmax'))\n",
        "\n",
        "model.compile(loss=keras.losses.categorical_crossentropy,  optimizer=keras.optimizers.Adadelta(), metrics=['accuracy'])\n",
        "\n",
        "model.summary()\n"
      ],
      "execution_count": null,
      "outputs": []
    },
    {
      "cell_type": "code",
      "metadata": {
        "id": "iO38_BH2nrLA",
        "colab_type": "code",
        "colab": {}
      },
      "source": [
        "batch_size = 128\n",
        "num_classes = 10\n",
        "epochs = 50\n",
        "\n",
        "model.fit(Xtrain_resized, ytrain_cat, \n",
        "          batch_size=batch_size, \n",
        "          epochs=epochs, \n",
        "          verbose=1, \n",
        "          validation_data=(Xtest_resized, ytest_cat))\n",
        "accuracy = model.evaluate(Xtest_resized, ytest_cat, verbose=0)\n",
        "print('Test accuracy:', accuracy[1])"
      ],
      "execution_count": null,
      "outputs": []
    }
  ]
}